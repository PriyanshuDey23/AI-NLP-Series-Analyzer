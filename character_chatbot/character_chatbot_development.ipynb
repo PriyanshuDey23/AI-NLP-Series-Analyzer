{
 "cells": [
  {
   "cell_type": "code",
   "execution_count": 1,
   "metadata": {},
   "outputs": [
    {
     "name": "stderr",
     "output_type": "stream",
     "text": [
      "c:\\Users\\HP\\anaconda3\\envs\\ten\\lib\\site-packages\\tqdm\\auto.py:21: TqdmWarning: IProgress not found. Please update jupyter and ipywidgets. See https://ipywidgets.readthedocs.io/en/stable/user_install.html\n",
      "  from .autonotebook import tqdm as notebook_tqdm\n"
     ]
    }
   ],
   "source": [
    "import pandas as pd\n",
    "import re\n",
    "from datasets import Dataset"
   ]
  },
  {
   "cell_type": "markdown",
   "metadata": {},
   "source": [
    "# Load Dataset"
   ]
  },
  {
   "cell_type": "code",
   "execution_count": 2,
   "metadata": {},
   "outputs": [],
   "source": [
    "data_path = \"../Data/naruto.csv\"\n",
    "naruto_transcript_df = pd.read_csv(data_path)"
   ]
  },
  {
   "cell_type": "code",
   "execution_count": 3,
   "metadata": {},
   "outputs": [
    {
     "data": {
      "text/html": [
       "<div>\n",
       "<style scoped>\n",
       "    .dataframe tbody tr th:only-of-type {\n",
       "        vertical-align: middle;\n",
       "    }\n",
       "\n",
       "    .dataframe tbody tr th {\n",
       "        vertical-align: top;\n",
       "    }\n",
       "\n",
       "    .dataframe thead th {\n",
       "        text-align: right;\n",
       "    }\n",
       "</style>\n",
       "<table border=\"1\" class=\"dataframe\">\n",
       "  <thead>\n",
       "    <tr style=\"text-align: right;\">\n",
       "      <th></th>\n",
       "      <th>name</th>\n",
       "      <th>line</th>\n",
       "    </tr>\n",
       "  </thead>\n",
       "  <tbody>\n",
       "    <tr>\n",
       "      <th>0</th>\n",
       "      <td>Naruto</td>\n",
       "      <td>(Laughing) Give it up. (Shows the stone faces...</td>\n",
       "    </tr>\n",
       "    <tr>\n",
       "      <th>1</th>\n",
       "      <td>Hiruzen</td>\n",
       "      <td>(Turns away from his writing) I hope you’re n...</td>\n",
       "    </tr>\n",
       "    <tr>\n",
       "      <th>2</th>\n",
       "      <td>Ninja</td>\n",
       "      <td>Naseer Sabah</td>\n",
       "    </tr>\n",
       "    <tr>\n",
       "      <th>3</th>\n",
       "      <td>Ninja</td>\n",
       "      <td>is the best person on earth</td>\n",
       "    </tr>\n",
       "    <tr>\n",
       "      <th>4</th>\n",
       "      <td>Naruto</td>\n",
       "      <td>muah</td>\n",
       "    </tr>\n",
       "  </tbody>\n",
       "</table>\n",
       "</div>"
      ],
      "text/plain": [
       "      name                                               line\n",
       "0   Naruto   (Laughing) Give it up. (Shows the stone faces...\n",
       "1  Hiruzen   (Turns away from his writing) I hope you’re n...\n",
       "2    Ninja                                       Naseer Sabah\n",
       "3    Ninja                        is the best person on earth\n",
       "4   Naruto                                               muah"
      ]
     },
     "execution_count": 3,
     "metadata": {},
     "output_type": "execute_result"
    }
   ],
   "source": [
    "naruto_transcript_df.head()"
   ]
  },
  {
   "cell_type": "code",
   "execution_count": null,
   "metadata": {},
   "outputs": [],
   "source": [
    "# Remove actions from transcript\n",
    "# Some sort of action\n",
    "def remove_paranthesis(text):\n",
    "    result = re.sub(r'\\(.*?\\)','',text)\n",
    "    return result"
   ]
  },
  {
   "cell_type": "code",
   "execution_count": null,
   "metadata": {},
   "outputs": [],
   "source": [
    "naruto_transcript_df['line'] = naruto_transcript_df['line'].apply(remove_paranthesis) # apply the function to all code"
   ]
  },
  {
   "cell_type": "code",
   "execution_count": null,
   "metadata": {},
   "outputs": [
    {
     "data": {
      "text/html": [
       "<div>\n",
       "<style scoped>\n",
       "    .dataframe tbody tr th:only-of-type {\n",
       "        vertical-align: middle;\n",
       "    }\n",
       "\n",
       "    .dataframe tbody tr th {\n",
       "        vertical-align: top;\n",
       "    }\n",
       "\n",
       "    .dataframe thead th {\n",
       "        text-align: right;\n",
       "    }\n",
       "</style>\n",
       "<table border=\"1\" class=\"dataframe\">\n",
       "  <thead>\n",
       "    <tr style=\"text-align: right;\">\n",
       "      <th></th>\n",
       "      <th>name</th>\n",
       "      <th>line</th>\n",
       "    </tr>\n",
       "  </thead>\n",
       "  <tbody>\n",
       "    <tr>\n",
       "      <th>0</th>\n",
       "      <td>Naruto</td>\n",
       "      <td>Give it up.  You’re just bent, because you d...</td>\n",
       "    </tr>\n",
       "    <tr>\n",
       "      <th>1</th>\n",
       "      <td>Hiruzen</td>\n",
       "      <td>I hope you’re not bothering me with some tri...</td>\n",
       "    </tr>\n",
       "    <tr>\n",
       "      <th>2</th>\n",
       "      <td>Ninja</td>\n",
       "      <td>Naseer Sabah</td>\n",
       "    </tr>\n",
       "    <tr>\n",
       "      <th>3</th>\n",
       "      <td>Ninja</td>\n",
       "      <td>is the best person on earth</td>\n",
       "    </tr>\n",
       "    <tr>\n",
       "      <th>4</th>\n",
       "      <td>Naruto</td>\n",
       "      <td>muah</td>\n",
       "    </tr>\n",
       "  </tbody>\n",
       "</table>\n",
       "</div>"
      ],
      "text/plain": [
       "      name                                               line\n",
       "0   Naruto    Give it up.  You’re just bent, because you d...\n",
       "1  Hiruzen    I hope you’re not bothering me with some tri...\n",
       "2    Ninja                                       Naseer Sabah\n",
       "3    Ninja                        is the best person on earth\n",
       "4   Naruto                                               muah"
      ]
     },
     "execution_count": 6,
     "metadata": {},
     "output_type": "execute_result"
    }
   ],
   "source": [
    "# Display\n",
    "naruto_transcript_df.head()"
   ]
  },
  {
   "cell_type": "code",
   "execution_count": 7,
   "metadata": {},
   "outputs": [],
   "source": [
    "# check the number of words\n",
    "naruto_transcript_df['number_of_words'] = naruto_transcript_df['line'].str.strip().str.split(\" \")\n",
    "naruto_transcript_df['number_of_words'] = naruto_transcript_df['number_of_words'].apply(lambda x: len(x))"
   ]
  },
  {
   "cell_type": "code",
   "execution_count": 8,
   "metadata": {},
   "outputs": [
    {
     "data": {
      "text/html": [
       "<div>\n",
       "<style scoped>\n",
       "    .dataframe tbody tr th:only-of-type {\n",
       "        vertical-align: middle;\n",
       "    }\n",
       "\n",
       "    .dataframe tbody tr th {\n",
       "        vertical-align: top;\n",
       "    }\n",
       "\n",
       "    .dataframe thead th {\n",
       "        text-align: right;\n",
       "    }\n",
       "</style>\n",
       "<table border=\"1\" class=\"dataframe\">\n",
       "  <thead>\n",
       "    <tr style=\"text-align: right;\">\n",
       "      <th></th>\n",
       "      <th>name</th>\n",
       "      <th>line</th>\n",
       "      <th>number_of_words</th>\n",
       "    </tr>\n",
       "  </thead>\n",
       "  <tbody>\n",
       "    <tr>\n",
       "      <th>0</th>\n",
       "      <td>Naruto</td>\n",
       "      <td>Give it up.  You’re just bent, because you d...</td>\n",
       "      <td>26</td>\n",
       "    </tr>\n",
       "    <tr>\n",
       "      <th>1</th>\n",
       "      <td>Hiruzen</td>\n",
       "      <td>I hope you’re not bothering me with some tri...</td>\n",
       "      <td>16</td>\n",
       "    </tr>\n",
       "    <tr>\n",
       "      <th>2</th>\n",
       "      <td>Ninja</td>\n",
       "      <td>Naseer Sabah</td>\n",
       "      <td>2</td>\n",
       "    </tr>\n",
       "    <tr>\n",
       "      <th>3</th>\n",
       "      <td>Ninja</td>\n",
       "      <td>is the best person on earth</td>\n",
       "      <td>6</td>\n",
       "    </tr>\n",
       "    <tr>\n",
       "      <th>4</th>\n",
       "      <td>Naruto</td>\n",
       "      <td>muah</td>\n",
       "      <td>1</td>\n",
       "    </tr>\n",
       "  </tbody>\n",
       "</table>\n",
       "</div>"
      ],
      "text/plain": [
       "      name                                               line  number_of_words\n",
       "0   Naruto    Give it up.  You’re just bent, because you d...               26\n",
       "1  Hiruzen    I hope you’re not bothering me with some tri...               16\n",
       "2    Ninja                                       Naseer Sabah                2\n",
       "3    Ninja                        is the best person on earth                6\n",
       "4   Naruto                                               muah                1"
      ]
     },
     "execution_count": 8,
     "metadata": {},
     "output_type": "execute_result"
    }
   ],
   "source": [
    "naruto_transcript_df.head()"
   ]
  },
  {
   "cell_type": "code",
   "execution_count": null,
   "metadata": {},
   "outputs": [],
   "source": [
    "#  whether we should take that row or not\n",
    "naruto_transcript_df['naruto_response_flag'] = 0 # First set to zero\n",
    "naruto_transcript_df.loc[(naruto_transcript_df['name']==\"Naruto\")&(naruto_transcript_df['number_of_words']>5),'naruto_response_flag']=1 # Where ever the naruto number is greater than 5, flag that as one"
   ]
  },
  {
   "cell_type": "code",
   "execution_count": 10,
   "metadata": {},
   "outputs": [
    {
     "data": {
      "text/html": [
       "<div>\n",
       "<style scoped>\n",
       "    .dataframe tbody tr th:only-of-type {\n",
       "        vertical-align: middle;\n",
       "    }\n",
       "\n",
       "    .dataframe tbody tr th {\n",
       "        vertical-align: top;\n",
       "    }\n",
       "\n",
       "    .dataframe thead th {\n",
       "        text-align: right;\n",
       "    }\n",
       "</style>\n",
       "<table border=\"1\" class=\"dataframe\">\n",
       "  <thead>\n",
       "    <tr style=\"text-align: right;\">\n",
       "      <th></th>\n",
       "      <th>name</th>\n",
       "      <th>line</th>\n",
       "      <th>number_of_words</th>\n",
       "      <th>naruto_response_flag</th>\n",
       "    </tr>\n",
       "  </thead>\n",
       "  <tbody>\n",
       "    <tr>\n",
       "      <th>0</th>\n",
       "      <td>Naruto</td>\n",
       "      <td>Give it up.  You’re just bent, because you d...</td>\n",
       "      <td>26</td>\n",
       "      <td>1</td>\n",
       "    </tr>\n",
       "    <tr>\n",
       "      <th>1</th>\n",
       "      <td>Hiruzen</td>\n",
       "      <td>I hope you’re not bothering me with some tri...</td>\n",
       "      <td>16</td>\n",
       "      <td>0</td>\n",
       "    </tr>\n",
       "    <tr>\n",
       "      <th>2</th>\n",
       "      <td>Ninja</td>\n",
       "      <td>Naseer Sabah</td>\n",
       "      <td>2</td>\n",
       "      <td>0</td>\n",
       "    </tr>\n",
       "    <tr>\n",
       "      <th>3</th>\n",
       "      <td>Ninja</td>\n",
       "      <td>is the best person on earth</td>\n",
       "      <td>6</td>\n",
       "      <td>0</td>\n",
       "    </tr>\n",
       "    <tr>\n",
       "      <th>4</th>\n",
       "      <td>Naruto</td>\n",
       "      <td>muah</td>\n",
       "      <td>1</td>\n",
       "      <td>0</td>\n",
       "    </tr>\n",
       "    <tr>\n",
       "      <th>...</th>\n",
       "      <td>...</td>\n",
       "      <td>...</td>\n",
       "      <td>...</td>\n",
       "      <td>...</td>\n",
       "    </tr>\n",
       "    <tr>\n",
       "      <th>158</th>\n",
       "      <td>Iruka</td>\n",
       "      <td>Congratulations. You graduate. Naruto’s stand...</td>\n",
       "      <td>27</td>\n",
       "      <td>0</td>\n",
       "    </tr>\n",
       "    <tr>\n",
       "      <th>159</th>\n",
       "      <td>Iruka</td>\n",
       "      <td>Huh?</td>\n",
       "      <td>1</td>\n",
       "      <td>0</td>\n",
       "    </tr>\n",
       "    <tr>\n",
       "      <th>160</th>\n",
       "      <td>Naruto</td>\n",
       "      <td>Iruka Sensei!</td>\n",
       "      <td>2</td>\n",
       "      <td>0</td>\n",
       "    </tr>\n",
       "    <tr>\n",
       "      <th>161</th>\n",
       "      <td>Iruka</td>\n",
       "      <td>Ah! That hurts!</td>\n",
       "      <td>3</td>\n",
       "      <td>0</td>\n",
       "    </tr>\n",
       "    <tr>\n",
       "      <th>162</th>\n",
       "      <td>Iruka</td>\n",
       "      <td>Naruto. This is only the beginning. The road...</td>\n",
       "      <td>38</td>\n",
       "      <td>0</td>\n",
       "    </tr>\n",
       "  </tbody>\n",
       "</table>\n",
       "<p>163 rows × 4 columns</p>\n",
       "</div>"
      ],
      "text/plain": [
       "        name                                               line  \\\n",
       "0     Naruto    Give it up.  You’re just bent, because you d...   \n",
       "1    Hiruzen    I hope you’re not bothering me with some tri...   \n",
       "2      Ninja                                       Naseer Sabah   \n",
       "3      Ninja                        is the best person on earth   \n",
       "4     Naruto                                               muah   \n",
       "..       ...                                                ...   \n",
       "158    Iruka   Congratulations. You graduate. Naruto’s stand...   \n",
       "159    Iruka                                               Huh?   \n",
       "160   Naruto                                     Iruka Sensei!    \n",
       "161    Iruka                                    Ah! That hurts!   \n",
       "162    Iruka    Naruto. This is only the beginning. The road...   \n",
       "\n",
       "     number_of_words  naruto_response_flag  \n",
       "0                 26                     1  \n",
       "1                 16                     0  \n",
       "2                  2                     0  \n",
       "3                  6                     0  \n",
       "4                  1                     0  \n",
       "..               ...                   ...  \n",
       "158               27                     0  \n",
       "159                1                     0  \n",
       "160                2                     0  \n",
       "161                3                     0  \n",
       "162               38                     0  \n",
       "\n",
       "[163 rows x 4 columns]"
      ]
     },
     "execution_count": 10,
     "metadata": {},
     "output_type": "execute_result"
    }
   ],
   "source": [
    "naruto_transcript_df"
   ]
  },
  {
   "cell_type": "code",
   "execution_count": 25,
   "metadata": {},
   "outputs": [],
   "source": [
    "indexes_to_take = list(naruto_transcript_df[(naruto_transcript_df['naruto_response_flag']==1)].index)"
   ]
  },
  {
   "cell_type": "code",
   "execution_count": 30,
   "metadata": {},
   "outputs": [
    {
     "data": {
      "text/plain": [
       "[0,\n",
       " 6,\n",
       " 28,\n",
       " 30,\n",
       " 32,\n",
       " 36,\n",
       " 38,\n",
       " 40,\n",
       " 46,\n",
       " 47,\n",
       " 63,\n",
       " 77,\n",
       " 86,\n",
       " 88,\n",
       " 90,\n",
       " 96,\n",
       " 106,\n",
       " 111,\n",
       " 136,\n",
       " 142,\n",
       " 144,\n",
       " 151]"
      ]
     },
     "execution_count": 30,
     "metadata": {},
     "output_type": "execute_result"
    }
   ],
   "source": [
    "indexes_to_take"
   ]
  },
  {
   "cell_type": "code",
   "execution_count": 26,
   "metadata": {},
   "outputs": [
    {
     "data": {
      "text/plain": [
       "[0, 6, 28]"
      ]
     },
     "execution_count": 26,
     "metadata": {},
     "output_type": "execute_result"
    }
   ],
   "source": [
    "indexes_to_take[:3]"
   ]
  },
  {
   "cell_type": "code",
   "execution_count": null,
   "metadata": {},
   "outputs": [],
   "source": [
    "# Combine the system prompt along with line column\n",
    "\n",
    "system_prompt = \"\"\"\" You are Naruto Uzumaki, the main character from the anime 'Naruto.' \n",
    "Respond in a way that reflects his energetic, determined, and sometimes impulsive personality. \n",
    "Use his speech patterns, such as his casual tone, enthusiasm, and often calling people 'Believe it!' or using other catchphrases. \n",
    "Naruto is always motivated by his dreams of becoming Hokage and proving others wrong, so let that come through in your answers! \\n\"\"\"\n",
    "\n",
    "prompts = []\n",
    "for ind in indexes_to_take:\n",
    "    prompt = system_prompt # Initiate it as system prompt\n",
    "\n",
    "    prompt += naruto_transcript_df.iloc[ind -1]['line']\n",
    "    prompt += '\\n'\n",
    "    prompt += naruto_transcript_df.iloc[ind]['line']\n",
    "    prompts.append(prompt)"
   ]
  },
  {
   "cell_type": "code",
   "execution_count": null,
   "metadata": {},
   "outputs": [
    {
     "name": "stdout",
     "output_type": "stream",
     "text": [
      "\" You are Naruto Uzumaki, the main character from the anime 'Naruto.' \n",
      "Respond in a way that reflects his energetic, determined, and sometimes impulsive personality. \n",
      "Use his speech patterns, such as his casual tone, enthusiasm, and often calling people 'Believe it!' or using other catchphrases. \n",
      "Naruto is always motivated by his dreams of becoming Hokage and proving others wrong, so let that come through in your answers! \n",
      "  Naruto. This is only the beginning. The road gets tougher now that you’re a Ninja. But if I told you that, I guess it would ruin the moment. So I’ll tell you later. Over 500 bowls of Ramen.\n",
      "  Give it up.  You’re just bent, because you didn’t have the guts to do what I do. Do ya!? Losers! Wanabees! You’ll never catch me! \n"
     ]
    }
   ],
   "source": [
    "print(prompts[0]) # Combine the system prompt and naruto_response_flag=1"
   ]
  },
  {
   "cell_type": "code",
   "execution_count": null,
   "metadata": {},
   "outputs": [
    {
     "data": {
      "text/html": [
       "<div>\n",
       "<style scoped>\n",
       "    .dataframe tbody tr th:only-of-type {\n",
       "        vertical-align: middle;\n",
       "    }\n",
       "\n",
       "    .dataframe tbody tr th {\n",
       "        vertical-align: top;\n",
       "    }\n",
       "\n",
       "    .dataframe thead th {\n",
       "        text-align: right;\n",
       "    }\n",
       "</style>\n",
       "<table border=\"1\" class=\"dataframe\">\n",
       "  <thead>\n",
       "    <tr style=\"text-align: right;\">\n",
       "      <th></th>\n",
       "      <th>prompt</th>\n",
       "    </tr>\n",
       "  </thead>\n",
       "  <tbody>\n",
       "    <tr>\n",
       "      <th>0</th>\n",
       "      <td>\" You are Naruto Uzumaki, the main character f...</td>\n",
       "    </tr>\n",
       "    <tr>\n",
       "      <th>1</th>\n",
       "      <td>\" You are Naruto Uzumaki, the main character f...</td>\n",
       "    </tr>\n",
       "    <tr>\n",
       "      <th>2</th>\n",
       "      <td>\" You are Naruto Uzumaki, the main character f...</td>\n",
       "    </tr>\n",
       "    <tr>\n",
       "      <th>3</th>\n",
       "      <td>\" You are Naruto Uzumaki, the main character f...</td>\n",
       "    </tr>\n",
       "    <tr>\n",
       "      <th>4</th>\n",
       "      <td>\" You are Naruto Uzumaki, the main character f...</td>\n",
       "    </tr>\n",
       "  </tbody>\n",
       "</table>\n",
       "</div>"
      ],
      "text/plain": [
       "                                              prompt\n",
       "0  \" You are Naruto Uzumaki, the main character f...\n",
       "1  \" You are Naruto Uzumaki, the main character f...\n",
       "2  \" You are Naruto Uzumaki, the main character f...\n",
       "3  \" You are Naruto Uzumaki, the main character f...\n",
       "4  \" You are Naruto Uzumaki, the main character f..."
      ]
     },
     "execution_count": 19,
     "metadata": {},
     "output_type": "execute_result"
    }
   ],
   "source": [
    "# COnvert to dataframe\n",
    "# COnvert the whole system prompt along with system prompt and the naruto_response_flag=1\n",
    "df = pd.DataFrame({\"prompt\":prompts})\n",
    "df.head()"
   ]
  },
  {
   "cell_type": "code",
   "execution_count": null,
   "metadata": {},
   "outputs": [],
   "source": [
    "dataset = Dataset.from_pandas(df) # Save it in dataset\n",
    "# Dataset: This refers to a class from the Hugging Face datasets library."
   ]
  },
  {
   "cell_type": "code",
   "execution_count": 33,
   "metadata": {},
   "outputs": [],
   "source": [
    "# Save to Csv\n",
    "df.to_csv(\"dataset.csv\")\n"
   ]
  },
  {
   "cell_type": "code",
   "execution_count": null,
   "metadata": {},
   "outputs": [],
   "source": []
  }
 ],
 "metadata": {
  "kernelspec": {
   "display_name": "ten",
   "language": "python",
   "name": "python3"
  },
  "language_info": {
   "codemirror_mode": {
    "name": "ipython",
    "version": 3
   },
   "file_extension": ".py",
   "mimetype": "text/x-python",
   "name": "python",
   "nbconvert_exporter": "python",
   "pygments_lexer": "ipython3",
   "version": "3.10.15"
  }
 },
 "nbformat": 4,
 "nbformat_minor": 2
}
